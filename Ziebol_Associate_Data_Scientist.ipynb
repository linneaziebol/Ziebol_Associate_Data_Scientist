{
 "cells": [
  {
   "cell_type": "code",
   "execution_count": 1,
   "metadata": {},
   "outputs": [
    {
     "ename": "RuntimeError",
     "evalue": "Compiled extensions are unavailable. If you've installed from a package, ask the package maintainer to include compiled extensions. If you're building Gensim from source yourself, install Cython and a C compiler, and then run `python setup.py build_ext --inplace` to retry. ",
     "output_type": "error",
     "traceback": [
      "\u001b[1;31m---------------------------------------------------------------------------\u001b[0m",
      "\u001b[1;31mImportError\u001b[0m                               Traceback (most recent call last)",
      "\u001b[1;32mC:\\ProgramData\\Anaconda3\\lib\\site-packages\\gensim\\models\\fasttext.py\u001b[0m in \u001b[0;36m<module>\u001b[1;34m\u001b[0m\n\u001b[0;32m    263\u001b[0m     )\n\u001b[1;32m--> 264\u001b[1;33m     \u001b[1;32mfrom\u001b[0m \u001b[0mgensim\u001b[0m\u001b[1;33m.\u001b[0m\u001b[0mmodels\u001b[0m\u001b[1;33m.\u001b[0m\u001b[0mfasttext_corpusfile\u001b[0m \u001b[1;32mimport\u001b[0m \u001b[0mtrain_epoch_sg\u001b[0m\u001b[1;33m,\u001b[0m \u001b[0mtrain_epoch_cbow\u001b[0m\u001b[1;33m\u001b[0m\u001b[1;33m\u001b[0m\u001b[0m\n\u001b[0m\u001b[0;32m    265\u001b[0m \u001b[1;32mexcept\u001b[0m \u001b[0mImportError\u001b[0m\u001b[1;33m:\u001b[0m\u001b[1;33m\u001b[0m\u001b[1;33m\u001b[0m\u001b[0m\n",
      "\u001b[1;31mImportError\u001b[0m: DLL load failed while importing fasttext_corpusfile: The specified module could not be found.",
      "\nDuring handling of the above exception, another exception occurred:\n",
      "\u001b[1;31mRuntimeError\u001b[0m                              Traceback (most recent call last)",
      "\u001b[1;32m<ipython-input-1-97894db36980>\u001b[0m in \u001b[0;36m<module>\u001b[1;34m\u001b[0m\n\u001b[0;32m      3\u001b[0m \u001b[1;32mimport\u001b[0m \u001b[0mseaborn\u001b[0m \u001b[1;32mas\u001b[0m \u001b[0msn\u001b[0m\u001b[1;33m\u001b[0m\u001b[1;33m\u001b[0m\u001b[0m\n\u001b[0;32m      4\u001b[0m \u001b[1;32mimport\u001b[0m \u001b[0mmatplotlib\u001b[0m\u001b[1;33m.\u001b[0m\u001b[0mpyplot\u001b[0m \u001b[1;32mas\u001b[0m \u001b[0mplt\u001b[0m\u001b[1;33m\u001b[0m\u001b[1;33m\u001b[0m\u001b[0m\n\u001b[1;32m----> 5\u001b[1;33m \u001b[1;32mimport\u001b[0m \u001b[0mgensim\u001b[0m\u001b[1;33m\u001b[0m\u001b[1;33m\u001b[0m\u001b[0m\n\u001b[0m\u001b[0;32m      6\u001b[0m \u001b[1;32mfrom\u001b[0m \u001b[0mgensim\u001b[0m \u001b[1;32mimport\u001b[0m \u001b[0mcorpora\u001b[0m\u001b[1;33m,\u001b[0m \u001b[0mmodels\u001b[0m\u001b[1;33m\u001b[0m\u001b[1;33m\u001b[0m\u001b[0m\n\u001b[0;32m      7\u001b[0m \u001b[1;32mfrom\u001b[0m \u001b[0mnumpy\u001b[0m \u001b[1;32mimport\u001b[0m \u001b[0mmean\u001b[0m\u001b[1;33m\u001b[0m\u001b[1;33m\u001b[0m\u001b[0m\n",
      "\u001b[1;32mC:\\ProgramData\\Anaconda3\\lib\\site-packages\\gensim\\__init__.py\u001b[0m in \u001b[0;36m<module>\u001b[1;34m\u001b[0m\n\u001b[0;32m      9\u001b[0m \u001b[1;32mimport\u001b[0m \u001b[0mlogging\u001b[0m\u001b[1;33m\u001b[0m\u001b[1;33m\u001b[0m\u001b[0m\n\u001b[0;32m     10\u001b[0m \u001b[1;33m\u001b[0m\u001b[0m\n\u001b[1;32m---> 11\u001b[1;33m \u001b[1;32mfrom\u001b[0m \u001b[0mgensim\u001b[0m \u001b[1;32mimport\u001b[0m \u001b[0mparsing\u001b[0m\u001b[1;33m,\u001b[0m \u001b[0mcorpora\u001b[0m\u001b[1;33m,\u001b[0m \u001b[0mmatutils\u001b[0m\u001b[1;33m,\u001b[0m \u001b[0minterfaces\u001b[0m\u001b[1;33m,\u001b[0m \u001b[0mmodels\u001b[0m\u001b[1;33m,\u001b[0m \u001b[0msimilarities\u001b[0m\u001b[1;33m,\u001b[0m \u001b[0mutils\u001b[0m  \u001b[1;31m# noqa:F401\u001b[0m\u001b[1;33m\u001b[0m\u001b[1;33m\u001b[0m\u001b[0m\n\u001b[0m\u001b[0;32m     12\u001b[0m \u001b[1;33m\u001b[0m\u001b[0m\n\u001b[0;32m     13\u001b[0m \u001b[1;33m\u001b[0m\u001b[0m\n",
      "\u001b[1;32mC:\\ProgramData\\Anaconda3\\lib\\site-packages\\gensim\\models\\__init__.py\u001b[0m in \u001b[0;36m<module>\u001b[1;34m\u001b[0m\n\u001b[0;32m     20\u001b[0m \u001b[1;32mfrom\u001b[0m \u001b[1;33m.\u001b[0m\u001b[0matmodel\u001b[0m \u001b[1;32mimport\u001b[0m \u001b[0mAuthorTopicModel\u001b[0m  \u001b[1;31m# noqa:F401\u001b[0m\u001b[1;33m\u001b[0m\u001b[1;33m\u001b[0m\u001b[0m\n\u001b[0;32m     21\u001b[0m \u001b[1;32mfrom\u001b[0m \u001b[1;33m.\u001b[0m\u001b[0mldaseqmodel\u001b[0m \u001b[1;32mimport\u001b[0m \u001b[0mLdaSeqModel\u001b[0m  \u001b[1;31m# noqa:F401\u001b[0m\u001b[1;33m\u001b[0m\u001b[1;33m\u001b[0m\u001b[0m\n\u001b[1;32m---> 22\u001b[1;33m \u001b[1;32mfrom\u001b[0m \u001b[1;33m.\u001b[0m\u001b[0mfasttext\u001b[0m \u001b[1;32mimport\u001b[0m \u001b[0mFastText\u001b[0m  \u001b[1;31m# noqa:F401\u001b[0m\u001b[1;33m\u001b[0m\u001b[1;33m\u001b[0m\u001b[0m\n\u001b[0m\u001b[0;32m     23\u001b[0m \u001b[1;32mfrom\u001b[0m \u001b[1;33m.\u001b[0m\u001b[0mtranslation_matrix\u001b[0m \u001b[1;32mimport\u001b[0m \u001b[0mTranslationMatrix\u001b[0m\u001b[1;33m,\u001b[0m \u001b[0mBackMappingTranslationMatrix\u001b[0m  \u001b[1;31m# noqa:F401\u001b[0m\u001b[1;33m\u001b[0m\u001b[1;33m\u001b[0m\u001b[0m\n\u001b[0;32m     24\u001b[0m \u001b[1;32mfrom\u001b[0m \u001b[1;33m.\u001b[0m\u001b[0mensemblelda\u001b[0m \u001b[1;32mimport\u001b[0m \u001b[0mEnsembleLda\u001b[0m  \u001b[1;31m# noqa:F401\u001b[0m\u001b[1;33m\u001b[0m\u001b[1;33m\u001b[0m\u001b[0m\n",
      "\u001b[1;32mC:\\ProgramData\\Anaconda3\\lib\\site-packages\\gensim\\models\\fasttext.py\u001b[0m in \u001b[0;36m<module>\u001b[1;34m\u001b[0m\n\u001b[0;32m    264\u001b[0m     \u001b[1;32mfrom\u001b[0m \u001b[0mgensim\u001b[0m\u001b[1;33m.\u001b[0m\u001b[0mmodels\u001b[0m\u001b[1;33m.\u001b[0m\u001b[0mfasttext_corpusfile\u001b[0m \u001b[1;32mimport\u001b[0m \u001b[0mtrain_epoch_sg\u001b[0m\u001b[1;33m,\u001b[0m \u001b[0mtrain_epoch_cbow\u001b[0m\u001b[1;33m\u001b[0m\u001b[1;33m\u001b[0m\u001b[0m\n\u001b[0;32m    265\u001b[0m \u001b[1;32mexcept\u001b[0m \u001b[0mImportError\u001b[0m\u001b[1;33m:\u001b[0m\u001b[1;33m\u001b[0m\u001b[1;33m\u001b[0m\u001b[0m\n\u001b[1;32m--> 266\u001b[1;33m     \u001b[1;32mraise\u001b[0m \u001b[0mutils\u001b[0m\u001b[1;33m.\u001b[0m\u001b[0mNO_CYTHON\u001b[0m\u001b[1;33m\u001b[0m\u001b[1;33m\u001b[0m\u001b[0m\n\u001b[0m\u001b[0;32m    267\u001b[0m \u001b[1;33m\u001b[0m\u001b[0m\n\u001b[0;32m    268\u001b[0m \u001b[1;33m\u001b[0m\u001b[0m\n",
      "\u001b[1;31mRuntimeError\u001b[0m: Compiled extensions are unavailable. If you've installed from a package, ask the package maintainer to include compiled extensions. If you're building Gensim from source yourself, install Cython and a C compiler, and then run `python setup.py build_ext --inplace` to retry. "
     ]
    }
   ],
   "source": [
    "import pandas as pd\n",
    "import numpy as np\n",
    "import seaborn as sn\n",
    "import matplotlib.pyplot as plt\n",
    "import gensim\n",
    "from gensim import corpora, models\n",
    "from numpy import mean\n",
    "from numpy import std\n",
    "from sklearn.svm import SVC\n",
    "from sklearn.multioutput import MultiOutputClassifier\n",
    "from skmultilearn.problem_transform import LabelPowerset\n",
    "from sklearn.naive_bayes import GaussianNB\n",
    "from sklearn.multioutput import ClassifierChain"
   ]
  },
  {
   "cell_type": "markdown",
   "metadata": {},
   "source": [
    "# Data and Notebook Setup"
   ]
  },
  {
   "cell_type": "code",
   "execution_count": 22,
   "metadata": {},
   "outputs": [],
   "source": [
    "df = pd.read_csv('IMA_recommendation_simulation_data.csv')"
   ]
  },
  {
   "cell_type": "code",
   "execution_count": 3,
   "metadata": {},
   "outputs": [
    {
     "name": "stdout",
     "output_type": "stream",
     "text": [
      "Length:  161563\n",
      "Size of DataSet:  2585008\n",
      "Shape of DataSet:  (161563, 16)\n",
      "List of Data types:\n",
      " Unnamed: 0                int64\n",
      "request_id               object\n",
      "week_id                   int64\n",
      "weekday                  object\n",
      "miles                     int64\n",
      "order_equipment_type     object\n",
      "order_distance          float64\n",
      "order_num_stops           int64\n",
      "order_origin_weight     float64\n",
      "lead_days                 int64\n",
      "color                    object\n",
      "origin_dat_ref            int64\n",
      "dest_dat_ref              int64\n",
      "rate_norm               float64\n",
      "est_cost_norm           float64\n",
      "CurrentCondition         object\n",
      "dtype: object\n"
     ]
    }
   ],
   "source": [
    "print(\"Length: \",len(df))\n",
    "size = df.size\n",
    "shape = df.shape\n",
    "print(\"Size of DataSet: \", size)\n",
    "print(\"Shape of DataSet: \", shape)\n",
    "print(\"List of Data types:\\n\", df.dtypes)"
   ]
  },
  {
   "cell_type": "markdown",
   "metadata": {},
   "source": [
    "The shape of this dataset is (161563, 16), and there are 7 unique Condition categories."
   ]
  },
  {
   "cell_type": "code",
   "execution_count": 4,
   "metadata": {},
   "outputs": [
    {
     "name": "stdout",
     "output_type": "stream",
     "text": [
      "Number of Condition Categories:  7\n"
     ]
    }
   ],
   "source": [
    "print(\"Number of Condition Categories: \", df['CurrentCondition'].value_counts().count())"
   ]
  },
  {
   "cell_type": "markdown",
   "metadata": {},
   "source": [
    "# Exploratory Data Analysis"
   ]
  },
  {
   "cell_type": "code",
   "execution_count": 7,
   "metadata": {},
   "outputs": [
    {
     "name": "stdout",
     "output_type": "stream",
     "text": [
      "Missingness: \n",
      " Unnamed: 0                 0\n",
      "request_id                 0\n",
      "week_id                    0\n",
      "weekday                    0\n",
      "miles                      0\n",
      "order_equipment_type       0\n",
      "order_distance          4678\n",
      "order_num_stops            0\n",
      "order_origin_weight       19\n",
      "lead_days                  0\n",
      "color                      0\n",
      "origin_dat_ref             0\n",
      "dest_dat_ref               0\n",
      "rate_norm                181\n",
      "est_cost_norm             39\n",
      "CurrentCondition         118\n",
      "dtype: int64\n"
     ]
    }
   ],
   "source": [
    "print(\"Missingness: \\n\", df.isnull().sum())"
   ]
  },
  {
   "cell_type": "markdown",
   "metadata": {},
   "source": [
    "The following columns have missing data: order_distance, order_origin_weight, rate_norm, est_cost_norm, and CurrentCondtion. The request ID is unique because it is a type object. "
   ]
  },
  {
   "cell_type": "code",
   "execution_count": 8,
   "metadata": {},
   "outputs": [
    {
     "data": {
      "text/html": [
       "<div>\n",
       "<style scoped>\n",
       "    .dataframe tbody tr th:only-of-type {\n",
       "        vertical-align: middle;\n",
       "    }\n",
       "\n",
       "    .dataframe tbody tr th {\n",
       "        vertical-align: top;\n",
       "    }\n",
       "\n",
       "    .dataframe thead th {\n",
       "        text-align: right;\n",
       "    }\n",
       "</style>\n",
       "<table border=\"1\" class=\"dataframe\">\n",
       "  <thead>\n",
       "    <tr style=\"text-align: right;\">\n",
       "      <th></th>\n",
       "      <th>Unnamed: 0</th>\n",
       "      <th>week_id</th>\n",
       "      <th>miles</th>\n",
       "      <th>order_distance</th>\n",
       "      <th>order_num_stops</th>\n",
       "      <th>order_origin_weight</th>\n",
       "      <th>lead_days</th>\n",
       "      <th>origin_dat_ref</th>\n",
       "      <th>dest_dat_ref</th>\n",
       "      <th>rate_norm</th>\n",
       "      <th>est_cost_norm</th>\n",
       "    </tr>\n",
       "  </thead>\n",
       "  <tbody>\n",
       "    <tr>\n",
       "      <th>Unnamed: 0</th>\n",
       "      <td>1.000000</td>\n",
       "      <td>-0.000418</td>\n",
       "      <td>-0.002983</td>\n",
       "      <td>-0.002669</td>\n",
       "      <td>-0.002841</td>\n",
       "      <td>-0.001675</td>\n",
       "      <td>0.003856</td>\n",
       "      <td>-0.004255</td>\n",
       "      <td>-0.005856</td>\n",
       "      <td>-0.001472</td>\n",
       "      <td>-0.002496</td>\n",
       "    </tr>\n",
       "    <tr>\n",
       "      <th>week_id</th>\n",
       "      <td>-0.000418</td>\n",
       "      <td>1.000000</td>\n",
       "      <td>-0.019201</td>\n",
       "      <td>-0.019802</td>\n",
       "      <td>-0.009899</td>\n",
       "      <td>-0.000422</td>\n",
       "      <td>0.007609</td>\n",
       "      <td>-0.001539</td>\n",
       "      <td>-0.010358</td>\n",
       "      <td>0.022749</td>\n",
       "      <td>-0.036973</td>\n",
       "    </tr>\n",
       "    <tr>\n",
       "      <th>miles</th>\n",
       "      <td>-0.002983</td>\n",
       "      <td>-0.019201</td>\n",
       "      <td>1.000000</td>\n",
       "      <td>0.982291</td>\n",
       "      <td>0.057819</td>\n",
       "      <td>-0.012212</td>\n",
       "      <td>0.025197</td>\n",
       "      <td>0.069189</td>\n",
       "      <td>0.248031</td>\n",
       "      <td>0.697896</td>\n",
       "      <td>0.742555</td>\n",
       "    </tr>\n",
       "    <tr>\n",
       "      <th>order_distance</th>\n",
       "      <td>-0.002669</td>\n",
       "      <td>-0.019802</td>\n",
       "      <td>0.982291</td>\n",
       "      <td>1.000000</td>\n",
       "      <td>NaN</td>\n",
       "      <td>-0.009852</td>\n",
       "      <td>0.027990</td>\n",
       "      <td>0.066862</td>\n",
       "      <td>0.246584</td>\n",
       "      <td>0.689225</td>\n",
       "      <td>0.730472</td>\n",
       "    </tr>\n",
       "    <tr>\n",
       "      <th>order_num_stops</th>\n",
       "      <td>-0.002841</td>\n",
       "      <td>-0.009899</td>\n",
       "      <td>0.057819</td>\n",
       "      <td>NaN</td>\n",
       "      <td>1.000000</td>\n",
       "      <td>-0.025359</td>\n",
       "      <td>0.037197</td>\n",
       "      <td>0.004474</td>\n",
       "      <td>-0.004028</td>\n",
       "      <td>0.061158</td>\n",
       "      <td>0.108425</td>\n",
       "    </tr>\n",
       "    <tr>\n",
       "      <th>order_origin_weight</th>\n",
       "      <td>-0.001675</td>\n",
       "      <td>-0.000422</td>\n",
       "      <td>-0.012212</td>\n",
       "      <td>-0.009852</td>\n",
       "      <td>-0.025359</td>\n",
       "      <td>1.000000</td>\n",
       "      <td>0.009731</td>\n",
       "      <td>-0.004263</td>\n",
       "      <td>-0.003545</td>\n",
       "      <td>-0.010642</td>\n",
       "      <td>-0.013850</td>\n",
       "    </tr>\n",
       "    <tr>\n",
       "      <th>lead_days</th>\n",
       "      <td>0.003856</td>\n",
       "      <td>0.007609</td>\n",
       "      <td>0.025197</td>\n",
       "      <td>0.027990</td>\n",
       "      <td>0.037197</td>\n",
       "      <td>0.009731</td>\n",
       "      <td>1.000000</td>\n",
       "      <td>0.017822</td>\n",
       "      <td>-0.004046</td>\n",
       "      <td>-0.005291</td>\n",
       "      <td>-0.003025</td>\n",
       "    </tr>\n",
       "    <tr>\n",
       "      <th>origin_dat_ref</th>\n",
       "      <td>-0.004255</td>\n",
       "      <td>-0.001539</td>\n",
       "      <td>0.069189</td>\n",
       "      <td>0.066862</td>\n",
       "      <td>0.004474</td>\n",
       "      <td>-0.004263</td>\n",
       "      <td>0.017822</td>\n",
       "      <td>1.000000</td>\n",
       "      <td>0.623976</td>\n",
       "      <td>-0.000007</td>\n",
       "      <td>-0.000004</td>\n",
       "    </tr>\n",
       "    <tr>\n",
       "      <th>dest_dat_ref</th>\n",
       "      <td>-0.005856</td>\n",
       "      <td>-0.010358</td>\n",
       "      <td>0.248031</td>\n",
       "      <td>0.246584</td>\n",
       "      <td>-0.004028</td>\n",
       "      <td>-0.003545</td>\n",
       "      <td>-0.004046</td>\n",
       "      <td>0.623976</td>\n",
       "      <td>1.000000</td>\n",
       "      <td>0.061579</td>\n",
       "      <td>0.048371</td>\n",
       "    </tr>\n",
       "    <tr>\n",
       "      <th>rate_norm</th>\n",
       "      <td>-0.001472</td>\n",
       "      <td>0.022749</td>\n",
       "      <td>0.697896</td>\n",
       "      <td>0.689225</td>\n",
       "      <td>0.061158</td>\n",
       "      <td>-0.010642</td>\n",
       "      <td>-0.005291</td>\n",
       "      <td>-0.000007</td>\n",
       "      <td>0.061579</td>\n",
       "      <td>1.000000</td>\n",
       "      <td>0.803012</td>\n",
       "    </tr>\n",
       "    <tr>\n",
       "      <th>est_cost_norm</th>\n",
       "      <td>-0.002496</td>\n",
       "      <td>-0.036973</td>\n",
       "      <td>0.742555</td>\n",
       "      <td>0.730472</td>\n",
       "      <td>0.108425</td>\n",
       "      <td>-0.013850</td>\n",
       "      <td>-0.003025</td>\n",
       "      <td>-0.000004</td>\n",
       "      <td>0.048371</td>\n",
       "      <td>0.803012</td>\n",
       "      <td>1.000000</td>\n",
       "    </tr>\n",
       "  </tbody>\n",
       "</table>\n",
       "</div>"
      ],
      "text/plain": [
       "                     Unnamed: 0   week_id     miles  order_distance  \\\n",
       "Unnamed: 0             1.000000 -0.000418 -0.002983       -0.002669   \n",
       "week_id               -0.000418  1.000000 -0.019201       -0.019802   \n",
       "miles                 -0.002983 -0.019201  1.000000        0.982291   \n",
       "order_distance        -0.002669 -0.019802  0.982291        1.000000   \n",
       "order_num_stops       -0.002841 -0.009899  0.057819             NaN   \n",
       "order_origin_weight   -0.001675 -0.000422 -0.012212       -0.009852   \n",
       "lead_days              0.003856  0.007609  0.025197        0.027990   \n",
       "origin_dat_ref        -0.004255 -0.001539  0.069189        0.066862   \n",
       "dest_dat_ref          -0.005856 -0.010358  0.248031        0.246584   \n",
       "rate_norm             -0.001472  0.022749  0.697896        0.689225   \n",
       "est_cost_norm         -0.002496 -0.036973  0.742555        0.730472   \n",
       "\n",
       "                     order_num_stops  order_origin_weight  lead_days  \\\n",
       "Unnamed: 0                 -0.002841            -0.001675   0.003856   \n",
       "week_id                    -0.009899            -0.000422   0.007609   \n",
       "miles                       0.057819            -0.012212   0.025197   \n",
       "order_distance                   NaN            -0.009852   0.027990   \n",
       "order_num_stops             1.000000            -0.025359   0.037197   \n",
       "order_origin_weight        -0.025359             1.000000   0.009731   \n",
       "lead_days                   0.037197             0.009731   1.000000   \n",
       "origin_dat_ref              0.004474            -0.004263   0.017822   \n",
       "dest_dat_ref               -0.004028            -0.003545  -0.004046   \n",
       "rate_norm                   0.061158            -0.010642  -0.005291   \n",
       "est_cost_norm               0.108425            -0.013850  -0.003025   \n",
       "\n",
       "                     origin_dat_ref  dest_dat_ref  rate_norm  est_cost_norm  \n",
       "Unnamed: 0                -0.004255     -0.005856  -0.001472      -0.002496  \n",
       "week_id                   -0.001539     -0.010358   0.022749      -0.036973  \n",
       "miles                      0.069189      0.248031   0.697896       0.742555  \n",
       "order_distance             0.066862      0.246584   0.689225       0.730472  \n",
       "order_num_stops            0.004474     -0.004028   0.061158       0.108425  \n",
       "order_origin_weight       -0.004263     -0.003545  -0.010642      -0.013850  \n",
       "lead_days                  0.017822     -0.004046  -0.005291      -0.003025  \n",
       "origin_dat_ref             1.000000      0.623976  -0.000007      -0.000004  \n",
       "dest_dat_ref               0.623976      1.000000   0.061579       0.048371  \n",
       "rate_norm                 -0.000007      0.061579   1.000000       0.803012  \n",
       "est_cost_norm             -0.000004      0.048371   0.803012       1.000000  "
      ]
     },
     "execution_count": 8,
     "metadata": {},
     "output_type": "execute_result"
    }
   ],
   "source": [
    "df.corr(method='pearson')"
   ]
  },
  {
   "cell_type": "code",
   "execution_count": 9,
   "metadata": {},
   "outputs": [
    {
     "data": {
      "text/plain": [
       "est_cost_norm        est_cost_norm          1.000000\n",
       "order_distance       miles                  0.982291\n",
       "est_cost_norm        rate_norm              0.803012\n",
       "miles                est_cost_norm          0.742555\n",
       "order_distance       est_cost_norm          0.730472\n",
       "rate_norm            miles                  0.697896\n",
       "                     order_distance         0.689225\n",
       "origin_dat_ref       dest_dat_ref           0.623976\n",
       "dest_dat_ref         miles                  0.248031\n",
       "order_distance       dest_dat_ref           0.246584\n",
       "est_cost_norm        order_num_stops        0.108425\n",
       "miles                origin_dat_ref         0.069189\n",
       "origin_dat_ref       order_distance         0.066862\n",
       "rate_norm            dest_dat_ref           0.061579\n",
       "                     order_num_stops        0.061158\n",
       "miles                order_num_stops        0.057819\n",
       "est_cost_norm        dest_dat_ref           0.048371\n",
       "lead_days            order_num_stops        0.037197\n",
       "order_distance       lead_days              0.027990\n",
       "lead_days            miles                  0.025197\n",
       "rate_norm            week_id                0.022749\n",
       "lead_days            origin_dat_ref         0.017822\n",
       "order_origin_weight  lead_days              0.009731\n",
       "lead_days            week_id                0.007609\n",
       "origin_dat_ref       order_num_stops        0.004474\n",
       "lead_days            Unnamed: 0             0.003856\n",
       "est_cost_norm        origin_dat_ref        -0.000004\n",
       "rate_norm            origin_dat_ref        -0.000007\n",
       "week_id              Unnamed: 0            -0.000418\n",
       "                     order_origin_weight   -0.000422\n",
       "Unnamed: 0           rate_norm             -0.001472\n",
       "origin_dat_ref       week_id               -0.001539\n",
       "Unnamed: 0           order_origin_weight   -0.001675\n",
       "est_cost_norm        Unnamed: 0            -0.002496\n",
       "Unnamed: 0           order_distance        -0.002669\n",
       "                     order_num_stops       -0.002841\n",
       "                     miles                 -0.002983\n",
       "lead_days            est_cost_norm         -0.003025\n",
       "order_origin_weight  dest_dat_ref          -0.003545\n",
       "dest_dat_ref         order_num_stops       -0.004028\n",
       "lead_days            dest_dat_ref          -0.004046\n",
       "Unnamed: 0           origin_dat_ref        -0.004255\n",
       "order_origin_weight  origin_dat_ref        -0.004263\n",
       "rate_norm            lead_days             -0.005291\n",
       "Unnamed: 0           dest_dat_ref          -0.005856\n",
       "order_origin_weight  order_distance        -0.009852\n",
       "week_id              order_num_stops       -0.009899\n",
       "dest_dat_ref         week_id               -0.010358\n",
       "rate_norm            order_origin_weight   -0.010642\n",
       "order_origin_weight  miles                 -0.012212\n",
       "                     est_cost_norm         -0.013850\n",
       "week_id              miles                 -0.019201\n",
       "                     order_distance        -0.019802\n",
       "order_origin_weight  order_num_stops       -0.025359\n",
       "est_cost_norm        week_id               -0.036973\n",
       "order_distance       order_num_stops             NaN\n",
       "dtype: float64"
      ]
     },
     "execution_count": 9,
     "metadata": {},
     "output_type": "execute_result"
    }
   ],
   "source": [
    "df.corr().unstack().sort_values(ascending = False).drop_duplicates()"
   ]
  },
  {
   "cell_type": "code",
   "execution_count": 10,
   "metadata": {},
   "outputs": [
    {
     "data": {
      "text/plain": [
       "<matplotlib.axes._subplots.AxesSubplot at 0x206d15df550>"
      ]
     },
     "execution_count": 10,
     "metadata": {},
     "output_type": "execute_result"
    },
    {
     "data": {
      "image/png": "[encoded data removed]",
      "text/plain": [
       "<Figure size 432x288 with 2 Axes>"
      ]
     },
     "metadata": {
      "needs_background": "light"
     },
     "output_type": "display_data"
    }
   ],
   "source": [
    "sn.heatmap(df.corr())"
   ]
  },
  {
   "cell_type": "code",
   "execution_count": 11,
   "metadata": {},
   "outputs": [
    {
     "data": {
      "image/png": "[encoded data removed]",
      "text/plain": [
       "<Figure size 432x288 with 1 Axes>"
      ]
     },
     "metadata": {
      "needs_background": "light"
     },
     "output_type": "display_data"
    }
   ],
   "source": [
    "plt.scatter(df.order_distance, df.miles)\n",
    "plt.show()"
   ]
  },
  {
   "cell_type": "markdown",
   "metadata": {},
   "source": [
    "This scatterplot of order distance plotted against miles, shows an obvious positive relationship. There is a steady incline, showing that as the order distance increases, the miles increase at about the same rate. This would make sense seeing that there is a very large correlation value of 0.982291."
   ]
  },
  {
   "cell_type": "code",
   "execution_count": 14,
   "metadata": {},
   "outputs": [
    {
     "data": {
      "image/png": "[encoded data removed]",
      "text/plain": [
       "<Figure size 432x288 with 1 Axes>"
      ]
     },
     "metadata": {
      "needs_background": "light"
     },
     "output_type": "display_data"
    }
   ],
   "source": [
    "plt.scatter(df.miles, df.est_cost_norm)\n",
    "plt.show()"
   ]
  },
  {
   "cell_type": "markdown",
   "metadata": {},
   "source": [
    "This scatterplot of miles plotted against estimated cost (normalized), shows a steep positive relationship. There is a large incline, showing that as the miles increase, normalized estimated cost increases at a very rapid rate. The correlation value of 0.742555 shows that these variables overlap much more than others."
   ]
  },
  {
   "cell_type": "code",
   "execution_count": 13,
   "metadata": {},
   "outputs": [
    {
     "name": "stdout",
     "output_type": "stream",
     "text": [
      "Accepted                     0.595652\n",
      "Rejected                     0.230066\n",
      "Withdrawn                    0.147419\n",
      "Cancelled                    0.020985\n",
      "Waiting On Acceptance        0.004955\n",
      "Waiting On Recommendation    0.000588\n",
      "NoPace                       0.000334\n",
      "Name: CurrentCondition, dtype: float64\n"
     ]
    },
    {
     "data": {
      "image/png": "[encoded data removed]",
      "text/plain": [
       "<Figure size 432x288 with 1 Axes>"
      ]
     },
     "metadata": {
      "needs_background": "light"
     },
     "output_type": "display_data"
    }
   ],
   "source": [
    "print(df.CurrentCondition.value_counts(normalize = True))\n",
    "df.CurrentCondition.value_counts().plot.barh()\n",
    "plt.show()"
   ]
  },
  {
   "cell_type": "markdown",
   "metadata": {},
   "source": [
    "This bar graph visualization shows how many orders are in each category of Current Condition. From the bars, we can see that most orders are Accepted, with Rejected being the second most likely. "
   ]
  },
  {
   "cell_type": "code",
   "execution_count": 19,
   "metadata": {},
   "outputs": [
    {
     "name": "stdout",
     "output_type": "stream",
     "text": [
      "color                         GREEN       RED    YELLOW\n",
      "CurrentCondition                                       \n",
      "Accepted                  -0.055813  0.028103 -0.275174\n",
      "Cancelled                 -0.047069  0.093151 -0.204492\n",
      "NoPace                     0.505071  0.011378       NaN\n",
      "Rejected                  -0.068765  0.161603 -0.324283\n",
      "Waiting On Acceptance     -0.446668  0.319869 -0.219705\n",
      "Waiting On Recommendation -0.407833  0.256496 -0.462497\n",
      "Withdrawn                 -0.095235  0.082747 -0.311773\n"
     ]
    },
    {
     "data": {
      "image/png": "[encoded data removed]",
      "text/plain": [
       "<Figure size 432x288 with 2 Axes>"
      ]
     },
     "metadata": {
      "needs_background": "light"
     },
     "output_type": "display_data"
    }
   ],
   "source": [
    "result = pd.pivot_table(data=df, index='CurrentCondition', columns='color',values='est_cost_norm')\n",
    "print(result)\n",
    "sn.heatmap(result, annot=True, cmap = 'RdYlGn', center=0)\n",
    "plt.show()"
   ]
  },
  {
   "cell_type": "markdown",
   "metadata": {},
   "source": [
    "This visualization gives a table as well as a heat map to explain what is going on. The boxes with darker red show that there is a lower estimated cost, while those with the green are at a higher estimated cost. The boxes themselves are fit to be in a category of the Current Condition and a category of the color given as well. "
   ]
  },
  {
   "cell_type": "markdown",
   "metadata": {},
   "source": [
    "# Classification Model "
   ]
  },
  {
   "cell_type": "code",
   "execution_count": 23,
   "metadata": {},
   "outputs": [],
   "source": [
    "df = df.drop('request_id', axis=1)\n",
    "df = df.iloc[: , 1:]"
   ]
  },
  {
   "cell_type": "code",
   "execution_count": 24,
   "metadata": {},
   "outputs": [],
   "source": [
    "df = df[df['CurrentCondition'].notna()]\n",
    "from sklearn import preprocessing\n",
    "le = preprocessing.LabelEncoder()\n",
    "categ = ['order_equipment_type', 'weekday', 'CurrentCondition', 'color']\n",
    "df[categ] = df[categ].apply(le.fit_transform)"
   ]
  },
  {
   "cell_type": "markdown",
   "metadata": {},
   "source": [
    "#### Processing the data with imputation"
   ]
  },
  {
   "cell_type": "code",
   "execution_count": 25,
   "metadata": {},
   "outputs": [],
   "source": [
    "df['order_origin_weight'].fillna(df['order_origin_weight'].mean(), inplace = True)\n",
    "df['rate_norm'].fillna(df['rate_norm'].mean(), inplace = True)\n",
    "df['est_cost_norm'].fillna(df['est_cost_norm'].mean(), inplace = True)\n",
    "df['order_distance'].fillna(df['order_distance'].mean(), inplace = True)"
   ]
  },
  {
   "cell_type": "code",
   "execution_count": 26,
   "metadata": {},
   "outputs": [],
   "source": [
    "X = df.iloc[:,:-1].values\n",
    "y = df.iloc[:,-1].values"
   ]
  },
  {
   "cell_type": "markdown",
   "metadata": {},
   "source": [
    "#### Train and Test sets"
   ]
  },
  {
   "cell_type": "code",
   "execution_count": 27,
   "metadata": {},
   "outputs": [],
   "source": [
    "from sklearn.model_selection import train_test_split\n",
    "X_train, X_test, y_train, y_test = train_test_split(X, y, random_state = 0)"
   ]
  },
  {
   "cell_type": "markdown",
   "metadata": {},
   "source": [
    "#### Decision Tree Classifier"
   ]
  },
  {
   "cell_type": "code",
   "execution_count": 28,
   "metadata": {},
   "outputs": [],
   "source": [
    "from sklearn import tree \n",
    "variables = df.iloc[:,:-1]\n",
    "results = df.iloc[:,-1]\n",
    "\n",
    "decision_tree = tree.DecisionTreeClassifier().fit(X_train, y_train)\n",
    "tree_predictions = decision_tree.predict(X_test)\n",
    "tree_expected = y_test"
   ]
  },
  {
   "cell_type": "code",
   "execution_count": 29,
   "metadata": {},
   "outputs": [
    {
     "name": "stdout",
     "output_type": "stream",
     "text": [
      "Correct Matches: 28550\n",
      "Data Points: 40362\n",
      "Accuracy Rate: 0.7073484961102027\n"
     ]
    }
   ],
   "source": [
    "matches = (tree_predictions == tree_expected)\n",
    "print(\"Correct Matches:\", matches.sum())\n",
    "print(\"Data Points:\", len(matches))\n",
    "print(\"Accuracy Rate:\", matches.sum() / float(len(matches)))"
   ]
  },
  {
   "cell_type": "code",
   "execution_count": 30,
   "metadata": {},
   "outputs": [
    {
     "name": "stdout",
     "output_type": "stream",
     "text": [
      "              precision    recall  f1-score   support\n",
      "\n",
      "           0       0.80      0.81      0.80     23646\n",
      "           1       0.36      0.34      0.35       919\n",
      "           2       0.19      0.16      0.17        19\n",
      "           3       0.64      0.64      0.64      9293\n",
      "           4       0.45      0.40      0.43       200\n",
      "           5       0.09      0.07      0.08        28\n",
      "           6       0.52      0.50      0.51      6257\n",
      "\n",
      "    accuracy                           0.71     40362\n",
      "   macro avg       0.43      0.42      0.42     40362\n",
      "weighted avg       0.70      0.71      0.71     40362\n",
      "\n"
     ]
    }
   ],
   "source": [
    "from sklearn import metrics\n",
    "print(metrics.classification_report(tree_predictions,tree_expected))"
   ]
  },
  {
   "cell_type": "code",
   "execution_count": 31,
   "metadata": {},
   "outputs": [
    {
     "name": "stdout",
     "output_type": "stream",
     "text": [
      "[[19100   281     7  2293    51     5  1909]\n",
      " [  328   311     0   163     0     0   117]\n",
      " [    5     0     3     3     2     0     6]\n",
      " [ 2308   174     2  5956    26     0   827]\n",
      " [   50     8     0    41    80     0    21]\n",
      " [    4     0     0     5     0     2    17]\n",
      " [ 2145    90     4   887    17    16  3098]]\n"
     ]
    }
   ],
   "source": [
    "print(metrics.confusion_matrix(tree_predictions,tree_expected))\n",
    "plt.show()"
   ]
  },
  {
   "cell_type": "code",
   "execution_count": 32,
   "metadata": {},
   "outputs": [
    {
     "name": "stdout",
     "output_type": "stream",
     "text": [
      "[0.03221842 0.01704078 0.09363758 0.0153263  0.06973391 0.00127348\n",
      " 0.14380358 0.06235568 0.13216392 0.17418364 0.0847183  0.101105\n",
      " 0.06956048]\n"
     ]
    }
   ],
   "source": [
    "from sklearn.inspection import permutation_importance\n",
    "imps = permutation_importance(decision_tree, X_test, y_test)\n",
    "tree_values= imps.importances_mean\n",
    "print(tree_values)"
   ]
  },
  {
   "cell_type": "code",
   "execution_count": 33,
   "metadata": {},
   "outputs": [],
   "source": [
    "names = list(df)\n",
    "del names[-1]"
   ]
  },
  {
   "cell_type": "code",
   "execution_count": 34,
   "metadata": {},
   "outputs": [
    {
     "name": "stdout",
     "output_type": "stream",
     "text": [
      "                   names    values\n",
      "9         origin_dat_ref  0.174184\n",
      "6    order_origin_weight  0.143804\n",
      "8                  color  0.132164\n",
      "11             rate_norm  0.101105\n",
      "2                  miles  0.093638\n",
      "10          dest_dat_ref  0.084718\n",
      "4         order_distance  0.069734\n",
      "12         est_cost_norm  0.069560\n",
      "7              lead_days  0.062356\n",
      "0                week_id  0.032218\n",
      "1                weekday  0.017041\n",
      "3   order_equipment_type  0.015326\n",
      "5        order_num_stops  0.001273\n"
     ]
    }
   ],
   "source": [
    "data = {'names': names, 'values': tree_values}\n",
    "Table_tree = pd.DataFrame(data=data)\n",
    "print(Table_tree.sort_values(by='values', ascending=False))"
   ]
  },
  {
   "cell_type": "code",
   "execution_count": 35,
   "metadata": {},
   "outputs": [
    {
     "data": {
      "text/plain": [
       "Text(0, 0.5, '')"
      ]
     },
     "execution_count": 35,
     "metadata": {},
     "output_type": "execute_result"
    },
    {
     "data": {
      "image/png": "[encoded data removed]",
      "text/plain": [
       "<Figure size 432x288 with 1 Axes>"
      ]
     },
     "metadata": {
      "needs_background": "light"
     },
     "output_type": "display_data"
    }
   ],
   "source": [
    "ax = Table_tree.plot.barh(x='names', y='values')\n",
    "ax.set_ylabel(None)"
   ]
  },
  {
   "cell_type": "code",
   "execution_count": 51,
   "metadata": {},
   "outputs": [
    {
     "name": "stdout",
     "output_type": "stream",
     "text": [
      "[0.70225773 0.70153303 0.701979  ]\n"
     ]
    }
   ],
   "source": [
    "from sklearn.model_selection import cross_val_score\n",
    "print(cross_val_score(decision_tree, X, y, cv=3))"
   ]
  },
  {
   "cell_type": "markdown",
   "metadata": {},
   "source": [
    "This classification model is better to produce the Current Condition of a load. The model would place the load correctly  70.73% of the time. This is a decent way to predict a load. The geographic region and weight of the shipment are the best features of this model. The graph above explains the features with the most importance as having the highest bar graph. This model is slightly overfit, seeing that there are different mean scores."
   ]
  },
  {
   "cell_type": "markdown",
   "metadata": {},
   "source": [
    "#### Gaussian Naive Bayes Model"
   ]
  },
  {
   "cell_type": "code",
   "execution_count": 36,
   "metadata": {},
   "outputs": [],
   "source": [
    "from sklearn.naive_bayes import GaussianNB\n",
    "gnb = GaussianNB().fit(X_train, y_train)\n",
    "gnb_predictions = gnb.predict(X_test)\n",
    "gnb_expected = y_test"
   ]
  },
  {
   "cell_type": "code",
   "execution_count": 37,
   "metadata": {},
   "outputs": [
    {
     "name": "stdout",
     "output_type": "stream",
     "text": [
      "Correct Matches: 21686\n",
      "Data Points: 40362\n",
      "Accuracy Rate: 0.537287547693375\n"
     ]
    }
   ],
   "source": [
    "matches = (gnb_predictions == gnb_expected)\n",
    "print(\"Correct Matches:\", matches.sum())\n",
    "print(\"Data Points:\", len(matches))\n",
    "print(\"Accuracy Rate:\", matches.sum() / float(len(matches)))"
   ]
  },
  {
   "cell_type": "code",
   "execution_count": 38,
   "metadata": {},
   "outputs": [
    {
     "name": "stdout",
     "output_type": "stream",
     "text": [
      "              precision    recall  f1-score   support\n",
      "\n",
      "           0       0.74      0.65      0.69     27534\n",
      "           1       0.00      0.00      0.00         0\n",
      "           2       0.00      0.00      0.00       104\n",
      "           3       0.42      0.31      0.36     12569\n",
      "           4       0.01      0.01      0.01       146\n",
      "           5       0.00      0.00      0.00         0\n",
      "           6       0.00      0.11      0.00         9\n",
      "\n",
      "    accuracy                           0.54     40362\n",
      "   macro avg       0.17      0.15      0.15     40362\n",
      "weighted avg       0.64      0.54      0.58     40362\n",
      "\n"
     ]
    },
    {
     "name": "stderr",
     "output_type": "stream",
     "text": [
      "C:\\ProgramData\\Anaconda3\\lib\\site-packages\\sklearn\\metrics\\_classification.py:1221: UndefinedMetricWarning: Recall and F-score are ill-defined and being set to 0.0 in labels with no true samples. Use `zero_division` parameter to control this behavior.\n",
      "  _warn_prf(average, modifier, msg_start, len(result))\n"
     ]
    }
   ],
   "source": [
    "from sklearn import metrics\n",
    "print(metrics.classification_report(gnb_predictions,gnb_expected))"
   ]
  },
  {
   "cell_type": "code",
   "execution_count": 39,
   "metadata": {},
   "outputs": [
    {
     "name": "stdout",
     "output_type": "stream",
     "text": [
      "[[17761   688     9  5400   110    13  3553]\n",
      " [    0     0     0     0     0     0     0]\n",
      " [   74     1     0     3     7     0    19]\n",
      " [ 5996   174     7  3923    57    10  2402]\n",
      " [  103     1     0    21     1     0    20]\n",
      " [    0     0     0     0     0     0     0]\n",
      " [    6     0     0     1     1     0     1]]\n"
     ]
    }
   ],
   "source": [
    "print(metrics.confusion_matrix(gnb_predictions,gnb_expected))\n",
    "plt.show()"
   ]
  },
  {
   "cell_type": "code",
   "execution_count": 43,
   "metadata": {},
   "outputs": [
    {
     "data": {
      "text/plain": [
       "6.400029730935038"
      ]
     },
     "execution_count": 43,
     "metadata": {},
     "output_type": "execute_result"
    }
   ],
   "source": [
    "from sklearn.metrics import mean_squared_error\n",
    "mean_squared_error(gnb_predictions,gnb_expected)"
   ]
  },
  {
   "cell_type": "code",
   "execution_count": 40,
   "metadata": {},
   "outputs": [],
   "source": [
    "from sklearn.inspection import permutation_importance\n",
    "imps = permutation_importance(gnb, X_test, y_test)\n",
    "values_gnb = list(imps.importances_mean)"
   ]
  },
  {
   "cell_type": "code",
   "execution_count": 41,
   "metadata": {},
   "outputs": [
    {
     "name": "stdout",
     "output_type": "stream",
     "text": [
      "                   names    values\n",
      "6    order_origin_weight  0.016773\n",
      "7              lead_days  0.012963\n",
      "8                  color  0.008027\n",
      "12         est_cost_norm  0.003057\n",
      "0                week_id  0.000917\n",
      "5        order_num_stops -0.000005\n",
      "3   order_equipment_type -0.000025\n",
      "1                weekday -0.000124\n",
      "11             rate_norm -0.000238\n",
      "4         order_distance -0.004881\n",
      "2                  miles -0.005317\n",
      "9         origin_dat_ref -0.006853\n",
      "10          dest_dat_ref -0.012279\n"
     ]
    }
   ],
   "source": [
    "data = {'names': names, 'values': values_gnb}\n",
    "Table_gnb = pd.DataFrame(data=data)\n",
    "print(Table_gnb.sort_values(by='values', ascending=False))"
   ]
  },
  {
   "cell_type": "code",
   "execution_count": 42,
   "metadata": {},
   "outputs": [
    {
     "data": {
      "text/plain": [
       "Text(0, 0.5, '')"
      ]
     },
     "execution_count": 42,
     "metadata": {},
     "output_type": "execute_result"
    },
    {
     "data": {
      "image/png": "[encoded data removed]",
      "text/plain": [
       "<Figure size 432x288 with 1 Axes>"
      ]
     },
     "metadata": {
      "needs_background": "light"
     },
     "output_type": "display_data"
    }
   ],
   "source": [
    "ax = Table_gnb.plot.barh(x='names', y='values')\n",
    "ax.set_ylabel(None)"
   ]
  },
  {
   "cell_type": "code",
   "execution_count": 50,
   "metadata": {},
   "outputs": [
    {
     "name": "stdout",
     "output_type": "stream",
     "text": [
      "[0.57238688 0.48224473 0.55677785]\n"
     ]
    }
   ],
   "source": [
    "from sklearn.model_selection import cross_val_score\n",
    "print(cross_val_score(gnb, X, y, cv=3))"
   ]
  },
  {
   "cell_type": "markdown",
   "metadata": {},
   "source": [
    "This classification model is correct 53.73% of the time about the condition of a load. I would not recommend this model to predict the status of a load, seeing that it just barely over 50%. The most important features of this model are the shipment weight and the number of days before pickup date that the customer placed the order. Because of the error rate, we cannot confirm if these would even be the best features to use. This model is very overfit becasue of the large difference in mean scores. This model overall needs to be refit to be of more use. "
   ]
  },
  {
   "cell_type": "markdown",
   "metadata": {},
   "source": [
    "# Context and Critical Reflection"
   ]
  },
  {
   "cell_type": "markdown",
   "metadata": {},
   "source": [
    "### I have a few questions about this dataset that would have helped me to understand this analysis further. Who assigns the color of the order, is it automatic or manual (up for interpretation)? Does the type of truck requested rely on the weight of the load?\n",
    "\n",
    "In order to answer these questions, I would look to ask the team that assigns the color, possibly the vendor? I would aslo seek out who chooses the trucks for each load and determine if there is a cut off weight to choose equipment types. "
   ]
  }
 ],
 "metadata": {
  "kernelspec": {
   "display_name": "Python 3",
   "language": "python",
   "name": "python3"
  },
  "language_info": {
   "codemirror_mode": {
    "name": "ipython",
    "version": 3
   },
   "file_extension": ".py",
   "mimetype": "text/x-python",
   "name": "python",
   "nbconvert_exporter": "python",
   "pygments_lexer": "ipython3",
   "version": "3.8.3"
  }
 },
 "nbformat": 4,
 "nbformat_minor": 4
}
